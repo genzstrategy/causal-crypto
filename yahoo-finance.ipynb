{
 "cells": [
  {
   "cell_type": "markdown",
   "id": "16d734e3-7a8f-4d6e-8a94-8903063527a4",
   "metadata": {},
   "source": [
    "# Yahoo Finance"
   ]
  },
  {
   "cell_type": "code",
   "execution_count": 1,
   "id": "e9a82c9d-79e2-46b1-9ade-da5efad49c23",
   "metadata": {},
   "outputs": [],
   "source": [
    "import yfinance as yf\n",
    "import pandas as pd\n",
    "from datetime import datetime, timedelta\n"
   ]
  },
  {
   "cell_type": "code",
   "execution_count": 2,
   "id": "de9ee387-3c25-4e0d-b227-cbd6b8d00b71",
   "metadata": {},
   "outputs": [],
   "source": [
    "frequency = \"1d\"\n",
    "start_time = \"2015-12-13\"\n",
    "end_time = (datetime.now() - timedelta(days=1)).strftime('%Y-%m-%d')  # Set end_time to yesterday"
   ]
  },
  {
   "cell_type": "code",
   "execution_count": 3,
   "id": "cad21236-0277-4f8b-8491-9acfb4ae8fe5",
   "metadata": {},
   "outputs": [
    {
     "name": "stdout",
     "output_type": "stream",
     "text": [
      "[*********************100%%**********************]  1 of 1 completed\n",
      "[*********************100%%**********************]  1 of 1 completed\n",
      "[*********************100%%**********************]  1 of 1 completed\n",
      "[*********************100%%**********************]  1 of 1 completed\n",
      "[*********************100%%**********************]  1 of 1 completed\n"
     ]
    }
   ],
   "source": [
    "# Ticker symbols for 13-week, 10-year, and 30-year US Treasuries\n",
    "# Note: These ticker symbols are commonly used representations but should be verified.\n",
    "tickers = [\"^IRX\", \"^TNX\", \"^TYX\", \"SPY\", \"QQQ\"]  # Replace with actual ticker symbols if different\n",
    "\n",
    "# Create a dictionary to store the data\n",
    "historical_data = {}\n",
    "\n",
    "# Retrieve historical data for each Treasury\n",
    "for ticker in tickers:\n",
    "    historical_data[ticker] = yf.download(ticker, start=start_time, end=end_time, interval=frequency)\n"
   ]
  },
  {
   "cell_type": "code",
   "execution_count": 4,
   "id": "c729ffb0-d208-407f-838c-6e600fa8e0f4",
   "metadata": {},
   "outputs": [],
   "source": [
    "combined_data = pd.DataFrame()\n",
    "\n",
    "for ticker, data in historical_data.items():\n",
    "    # Extract the 'Close' column and rename it to the ticker's name\n",
    "    close_data = data['Close'].rename(ticker)\n",
    "    # Join with the main DataFrame\n",
    "    combined_data = combined_data.join(close_data, how='outer')"
   ]
  },
  {
   "cell_type": "code",
   "execution_count": 5,
   "id": "ec14f4b3-5b7f-4586-842d-f299cf5d47d7",
   "metadata": {},
   "outputs": [
    {
     "data": {
      "text/html": [
       "<div>\n",
       "<style scoped>\n",
       "    .dataframe tbody tr th:only-of-type {\n",
       "        vertical-align: middle;\n",
       "    }\n",
       "\n",
       "    .dataframe tbody tr th {\n",
       "        vertical-align: top;\n",
       "    }\n",
       "\n",
       "    .dataframe thead th {\n",
       "        text-align: right;\n",
       "    }\n",
       "</style>\n",
       "<table border=\"1\" class=\"dataframe\">\n",
       "  <thead>\n",
       "    <tr style=\"text-align: right;\">\n",
       "      <th></th>\n",
       "      <th>^IRX</th>\n",
       "      <th>^TNX</th>\n",
       "      <th>^TYX</th>\n",
       "      <th>SPY</th>\n",
       "      <th>QQQ</th>\n",
       "    </tr>\n",
       "    <tr>\n",
       "      <th>Date</th>\n",
       "      <th></th>\n",
       "      <th></th>\n",
       "      <th></th>\n",
       "      <th></th>\n",
       "      <th></th>\n",
       "    </tr>\n",
       "  </thead>\n",
       "  <tbody>\n",
       "    <tr>\n",
       "      <th>2023-12-11</th>\n",
       "      <td>5.233</td>\n",
       "      <td>4.239</td>\n",
       "      <td>4.330</td>\n",
       "      <td>461.989990</td>\n",
       "      <td>395.519989</td>\n",
       "    </tr>\n",
       "    <tr>\n",
       "      <th>2023-12-12</th>\n",
       "      <td>5.248</td>\n",
       "      <td>4.206</td>\n",
       "      <td>4.304</td>\n",
       "      <td>464.100006</td>\n",
       "      <td>398.670013</td>\n",
       "    </tr>\n",
       "    <tr>\n",
       "      <th>2023-12-13</th>\n",
       "      <td>5.223</td>\n",
       "      <td>4.033</td>\n",
       "      <td>4.183</td>\n",
       "      <td>470.500000</td>\n",
       "      <td>403.739990</td>\n",
       "    </tr>\n",
       "    <tr>\n",
       "      <th>2023-12-14</th>\n",
       "      <td>5.215</td>\n",
       "      <td>3.930</td>\n",
       "      <td>4.054</td>\n",
       "      <td>472.010010</td>\n",
       "      <td>403.390015</td>\n",
       "    </tr>\n",
       "    <tr>\n",
       "      <th>2023-12-15</th>\n",
       "      <td>5.225</td>\n",
       "      <td>3.928</td>\n",
       "      <td>4.027</td>\n",
       "      <td>469.329987</td>\n",
       "      <td>405.339996</td>\n",
       "    </tr>\n",
       "    <tr>\n",
       "      <th>2023-12-18</th>\n",
       "      <td>5.225</td>\n",
       "      <td>3.954</td>\n",
       "      <td>4.069</td>\n",
       "      <td>471.970001</td>\n",
       "      <td>407.079987</td>\n",
       "    </tr>\n",
       "    <tr>\n",
       "      <th>2023-12-19</th>\n",
       "      <td>5.238</td>\n",
       "      <td>3.922</td>\n",
       "      <td>4.035</td>\n",
       "      <td>474.839996</td>\n",
       "      <td>409.160004</td>\n",
       "    </tr>\n",
       "    <tr>\n",
       "      <th>2023-12-20</th>\n",
       "      <td>5.230</td>\n",
       "      <td>3.877</td>\n",
       "      <td>4.005</td>\n",
       "      <td>468.260010</td>\n",
       "      <td>403.079987</td>\n",
       "    </tr>\n",
       "    <tr>\n",
       "      <th>2023-12-21</th>\n",
       "      <td>5.210</td>\n",
       "      <td>3.894</td>\n",
       "      <td>4.036</td>\n",
       "      <td>472.700012</td>\n",
       "      <td>407.769989</td>\n",
       "    </tr>\n",
       "    <tr>\n",
       "      <th>2023-12-22</th>\n",
       "      <td>5.208</td>\n",
       "      <td>3.901</td>\n",
       "      <td>4.054</td>\n",
       "      <td>473.649994</td>\n",
       "      <td>408.380005</td>\n",
       "    </tr>\n",
       "  </tbody>\n",
       "</table>\n",
       "</div>"
      ],
      "text/plain": [
       "             ^IRX   ^TNX   ^TYX         SPY         QQQ\n",
       "Date                                                   \n",
       "2023-12-11  5.233  4.239  4.330  461.989990  395.519989\n",
       "2023-12-12  5.248  4.206  4.304  464.100006  398.670013\n",
       "2023-12-13  5.223  4.033  4.183  470.500000  403.739990\n",
       "2023-12-14  5.215  3.930  4.054  472.010010  403.390015\n",
       "2023-12-15  5.225  3.928  4.027  469.329987  405.339996\n",
       "2023-12-18  5.225  3.954  4.069  471.970001  407.079987\n",
       "2023-12-19  5.238  3.922  4.035  474.839996  409.160004\n",
       "2023-12-20  5.230  3.877  4.005  468.260010  403.079987\n",
       "2023-12-21  5.210  3.894  4.036  472.700012  407.769989\n",
       "2023-12-22  5.208  3.901  4.054  473.649994  408.380005"
      ]
     },
     "execution_count": 5,
     "metadata": {},
     "output_type": "execute_result"
    }
   ],
   "source": [
    "combined_data.tail(10)"
   ]
  },
  {
   "cell_type": "code",
   "execution_count": null,
   "id": "1cbdd154-5a0b-47b3-92bd-84d29728d2a7",
   "metadata": {},
   "outputs": [],
   "source": [
    "combined_data.to_parquet('yahoo-finance.parquet')"
   ]
  }
 ],
 "metadata": {
  "kernelspec": {
   "display_name": "Python 3 (ipykernel)",
   "language": "python",
   "name": "python3"
  },
  "language_info": {
   "codemirror_mode": {
    "name": "ipython",
    "version": 3
   },
   "file_extension": ".py",
   "mimetype": "text/x-python",
   "name": "python",
   "nbconvert_exporter": "python",
   "pygments_lexer": "ipython3",
   "version": "3.11.6"
  }
 },
 "nbformat": 4,
 "nbformat_minor": 5
}
